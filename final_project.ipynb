{
 "cells": [
  {
   "cell_type": "code",
   "execution_count": 1,
   "metadata": {
    "scrolled": true
   },
   "outputs": [
    {
     "name": "stdout",
     "output_type": "stream",
     "text": [
      "{'-1', nan, 'East', 'Central', 'North East', 'North', 'South', 'West'}\n",
      "Index(['ingredients', 'diet', 'prep_time', 'cook_time', 'flavor_profile',\n",
      "       'course', 'state', 'region'],\n",
      "      dtype='object')\n"
     ]
    }
   ],
   "source": [
    "# read in data\n",
    "import pandas as pd\n",
    "import numpy as np\n",
    "indian_food = pd.read_csv('indian_food.cs',sep=\",\",engine='python',index_col=0)\n",
    "region = indian_food['region'].to_numpy()\n",
    "print(set(region))\n",
    "print(indian_food.columns)"
   ]
  },
  {
   "cell_type": "code",
   "execution_count": 2,
   "metadata": {},
   "outputs": [
    {
     "name": "stdout",
     "output_type": "stream",
     "text": [
      "(242, 8)\n"
     ]
    }
   ],
   "source": [
    "# remove nan and -1 from region\n",
    "indian_food = indian_food.dropna()\n",
    "indian_food = indian_food[indian_food['region'] != '-1']\n",
    "# remove -1 from features that will be used\n",
    "indian_food = indian_food[indian_food['flavor_profile'] != '-1']\n",
    "indian_food = indian_food[indian_food['diet'] != '-1']\n",
    "indian_food = indian_food[indian_food['course'] != '-1']\n",
    "indian_food = indian_food[indian_food['prep_time'] != -1]\n",
    "indian_food = indian_food[indian_food['cook_time'] != -1]\n",
    "\n",
    "region = indian_food['region'].to_numpy()\n",
    "ingredients = indian_food['ingredients'].to_numpy()\n",
    "N = len(set(region)) # num of classes\n",
    "print(indian_food.shape)"
   ]
  },
  {
   "cell_type": "code",
   "execution_count": 3,
   "metadata": {},
   "outputs": [],
   "source": [
    "# Maps region to int\n",
    "def mapper(s):\n",
    "    if s=='North East':\n",
    "        return 0\n",
    "    elif s=='West':\n",
    "        return 1\n",
    "    elif s=='Central':\n",
    "        return 2\n",
    "    elif s=='North':\n",
    "        return 3\n",
    "    elif s=='East':\n",
    "        return 4\n",
    "    else: # South\n",
    "        return 5"
   ]
  },
  {
   "cell_type": "code",
   "execution_count": 4,
   "metadata": {},
   "outputs": [],
   "source": [
    "# Multinomial Naive Bayes implementation\n",
    "# loop over train ingredients\n",
    "def create_word_dictionary():\n",
    "    word_dictionary = {}\n",
    "    for i in range(len(x_train)):\n",
    "        words = x_train[i].lower().split(\", \")\n",
    "        for w in words:\n",
    "            if w not in word_dictionary:\n",
    "                word_dictionary[w] = [1,1,1,1,1,1]\n",
    "            word_dictionary[w][training_labels[i]] += 1\n",
    "    return word_dictionary\n",
    "\n",
    "\n",
    "# What is the prior? P(Y=region)\n",
    "def get_priors(train_labels):\n",
    "    label_counts = np.zeros(N)\n",
    "    for l in train_labels:\n",
    "        label_counts[l] += 1\n",
    "    train_count = len(train_labels)\n",
    "    priors = [label_counts[i]/train_count for i in range(N)]\n",
    "    return priors\n",
    "\n",
    "\n",
    "# What are the class probabilities P(X=food|Y=region) for each ingredient?\n",
    "def get_region_likelihoods(counts):\n",
    "    region_likelihood = {}\n",
    "    for i in range(N):\n",
    "        region_likelihood[i] = {}\n",
    "    for key,val in food_dictionary.items():\n",
    "        for i in range(N):\n",
    "            region_likelihood[i][key] = val[i]/counts[i]*1.0\n",
    "    return region_likelihood\n",
    "\n",
    "\n",
    "def get_posteriors(x):\n",
    "    posteriors = np.zeros((len(x),N))\n",
    "    for i in range(len(x)):\n",
    "        p = [np.log(prior) for prior in priors]\n",
    "        foods = x[i].lower().split(\", \") \n",
    "        for f in foods:\n",
    "            try:\n",
    "                p = [p[i] + np.log(region_likelihood[i][f]) for i in range(N)]\n",
    "            except KeyError:\n",
    "                pass\n",
    "        # none of the test ingredients found in training\n",
    "        if sum(p) == 0:\n",
    "            post_denom = 1\n",
    "        else:\n",
    "            post_denom = sum(p)\n",
    "        for j in range(N):\n",
    "            posteriors[i,j] = p[j]\n",
    "    return posteriors\n",
    "\n",
    "\n",
    "# Get test set accuracy\n",
    "def validate_model(posteriors, labels):\n",
    "    prediction_labels = np.zeros(len(labels))\n",
    "    correct = 0\n",
    "    # the larger posterior value is more probable\n",
    "    for i in range(len(labels)):\n",
    "        prob = posteriors[i]\n",
    "        pred_region = np.argmax(prob)\n",
    "        prediction_labels[i] = pred_region\n",
    "        if pred_region == labels[i]:\n",
    "            correct += 1\n",
    "    print(\"Accuracy: \" + str(correct/len(labels)*100.0) + \"%\")\n",
    "    return prediction_labels"
   ]
  },
  {
   "cell_type": "code",
   "execution_count": 5,
   "metadata": {},
   "outputs": [
    {
     "name": "stdout",
     "output_type": "stream",
     "text": [
      "Accuracy: 87.04663212435233%\n",
      "Accuracy: 55.10204081632652%\n"
     ]
    }
   ],
   "source": [
    "# train classifier\n",
    "import sklearn.model_selection as ms\n",
    "# split by indices\n",
    "all_indices = list(range(len(indian_food)))\n",
    "train_indices, test_indices = ms.train_test_split(all_indices, test_size=0.2, random_state=0)\n",
    "train = indian_food.iloc[train_indices]\n",
    "test = indian_food.iloc[test_indices]\n",
    "x_train,x_test = train['ingredients'], test['ingredients']\n",
    "y_train,y_test = train['region'], test['region']\n",
    "training_labels = [mapper(w) for w in y_train]\n",
    "y_test_labels = [mapper(w) for w in y_test]\n",
    "\n",
    "food_dictionary = create_word_dictionary()\n",
    "total_word_counts = np.array([v for v in food_dictionary.values()]).sum(axis=0)\n",
    "priors = get_priors(training_labels)\n",
    "region_likelihood = get_region_likelihoods(total_word_counts) # region_likelihood[region_num][food] = prob\n",
    "posteriors_train = get_posteriors(x_train)\n",
    "validate_model(posteriors_train, training_labels)\n",
    "\n",
    "posteriors_test = get_posteriors(x_test)\n",
    "y_pred = validate_model(posteriors_test, y_test_labels)\n"
   ]
  },
  {
   "cell_type": "code",
   "execution_count": 6,
   "metadata": {},
   "outputs": [
    {
     "data": {
      "text/plain": [
       "(7, 0)"
      ]
     },
     "execution_count": 6,
     "metadata": {},
     "output_type": "execute_result"
    },
    {
     "data": {
      "image/png": "[encoded data removed]",
      "text/plain": [
       "<Figure size 432x288 with 2 Axes>"
      ]
     },
     "metadata": {
      "needs_background": "light"
     },
     "output_type": "display_data"
    }
   ],
   "source": [
    "# examine predictions\n",
    "import seaborn as sn\n",
    "data = {'y_Actual':    y_test_labels,\n",
    "        'y_Predicted': [int(y) for y in y_pred]\n",
    "        }\n",
    "\n",
    "df = pd.DataFrame(data, columns=['y_Actual','y_Predicted'])\n",
    "confusion_matrix = pd.crosstab(df['y_Actual'], df['y_Predicted'], rownames=['Actual'], colnames=['Predicted'], margins = True)\n",
    "\n",
    "ax = sn.heatmap(confusion_matrix, annot=True)\n",
    "# print(ax.get_ylim())\n",
    "ax.title.set_text('Confusion Matrix: MNB')\n",
    "ax.set_ylim(7, 0)"
   ]
  },
  {
   "cell_type": "code",
   "execution_count": 7,
   "metadata": {},
   "outputs": [
    {
     "name": "stdout",
     "output_type": "stream",
     "text": [
      "5\n",
      "35\n",
      "[35, 70, 105, 140]\n"
     ]
    }
   ],
   "source": [
    "# model revision 1:\n",
    "# more features\n",
    "# add in flavor_profile, diet, prep time, cook time\n",
    "# add in prep and cook time\n",
    "# discretize prep and cook time w/ WPKID\n",
    "\n",
    "m = 30\n",
    "n = len(x_train)\n",
    "# n = s * t\n",
    "# t = s - m\n",
    "# s = t + m\n",
    "# n = (t + m) * t = t**2 + m*t\n",
    "# 0 = t**2 + m*t - n\n",
    "# solve for t\n",
    "p = [1, m, -n]\n",
    "t = int(max(np.roots(p)))\n",
    "# print(t)\n",
    "s = t + m\n",
    "# print(s)\n",
    "# [0-35, 35-70, 70-105, 105-140, 140+]\n",
    "intervals = [s*i for i in range(1,t)]\n",
    "# print(intervals)\n",
    "indian_food['prep_time'] = np.digitize(indian_food['prep_time'],intervals)\n",
    "indian_food['prep_time'] = indian_food['prep_time'].map(str)\n",
    "indian_food['cook_time'] = np.digitize(indian_food['cook_time'],intervals)\n",
    "indian_food['cook_time'] = indian_food['cook_time'].map(str)\n",
    "\n",
    "indian_food[\"full_description\"] = indian_food[\"ingredients\"] + \", \" + indian_food[\"flavor_profile\"] + \", \" + indian_food[\"diet\"] + \", \" + indian_food[\"prep_time\"] + \", \" + indian_food['cook_time']"
   ]
  },
  {
   "cell_type": "code",
   "execution_count": 8,
   "metadata": {},
   "outputs": [
    {
     "name": "stdout",
     "output_type": "stream",
     "text": [
      "Accuracy: 81.86528497409327%\n",
      "Accuracy: 57.14285714285714%\n"
     ]
    }
   ],
   "source": [
    "train = indian_food.iloc[train_indices]\n",
    "test = indian_food.iloc[test_indices]\n",
    "x_train,x_test = train['full_description'], test['full_description']\n",
    "y_train,y_test = train['region'], test['region']\n",
    "training_labels = [mapper(w) for w in y_train]\n",
    "y_test_labels = [mapper(w) for w in y_test]\n",
    "\n",
    "food_dictionary = create_word_dictionary()\n",
    "total_word_counts = np.array([v for v in food_dictionary.values()]).sum(axis=0)\n",
    "priors = get_priors(training_labels)\n",
    "region_likelihood = get_region_likelihoods(total_word_counts) # region_likelihood[region_num][food] = prob\n",
    "posteriors_train = get_posteriors(x_train)\n",
    "validate_model(posteriors_train, training_labels)\n",
    "\n",
    "posteriors_test = get_posteriors(x_test)\n",
    "y_pred = validate_model(posteriors_test, y_test_labels)"
   ]
  },
  {
   "cell_type": "code",
   "execution_count": 9,
   "metadata": {},
   "outputs": [
    {
     "data": {
      "text/plain": [
       "(7, 0)"
      ]
     },
     "execution_count": 9,
     "metadata": {},
     "output_type": "execute_result"
    },
    {
     "data": {
      "image/png": "[encoded data removed]",
      "text/plain": [
       "<Figure size 432x288 with 2 Axes>"
      ]
     },
     "metadata": {
      "needs_background": "light"
     },
     "output_type": "display_data"
    }
   ],
   "source": [
    "# examine predictions\n",
    "data = {'y_Actual':    y_test_labels,\n",
    "        'y_Predicted': [int(y) for y in y_pred]\n",
    "        }\n",
    "\n",
    "df = pd.DataFrame(data, columns=['y_Actual','y_Predicted'])\n",
    "confusion_matrix = pd.crosstab(df['y_Actual'], df['y_Predicted'], rownames=['Actual'], colnames=['Predicted'], margins = True)\n",
    "\n",
    "ax = sn.heatmap(confusion_matrix, annot=True)\n",
    "# print(ax.get_ylim())\n",
    "ax.title.set_text('Confusion Matrix: MNB, additional features')\n",
    "ax.set_ylim(7, 0)"
   ]
  },
  {
   "cell_type": "code",
   "execution_count": 10,
   "metadata": {},
   "outputs": [
    {
     "name": "stdout",
     "output_type": "stream",
     "text": [
      "['Central' 'East' 'North' 'North East' 'South' 'West']\n",
      "[ 2 24 42 19 46 60]\n"
     ]
    }
   ],
   "source": [
    "# Imbalanced classes\n",
    "(unique, counts) = np.unique(y_train, return_counts=True)\n",
    "print(unique)\n",
    "print(counts)"
   ]
  },
  {
   "cell_type": "code",
   "execution_count": 11,
   "metadata": {},
   "outputs": [],
   "source": [
    "# CNB implementation\n",
    "def get_not_counts(counts):\n",
    "    total = np.sum(counts)\n",
    "    not_counts = [total - c for c in counts]\n",
    "    return not_counts\n",
    "\n",
    "# P(X=food|Y=not region) for each ingredient\n",
    "def get_region_likelihoods_cnb(counts):\n",
    "    not_counts = get_not_counts(counts)\n",
    "    region_likelihood = {}\n",
    "    for i in range(N):\n",
    "        region_likelihood[i] = {}\n",
    "    for key,val in food_dictionary.items():\n",
    "        not_val = get_not_counts(val)\n",
    "        for i in range(N):\n",
    "            region_likelihood[i][key] = not_val[i]*1.0/not_counts[i]*1.0\n",
    "    return region_likelihood\n",
    "\n",
    "def get_posteriors_cnb(x):\n",
    "    posteriors = np.zeros((len(x),N))\n",
    "    for i in range(len(x)):\n",
    "        p = np.zeros(len(priors))\n",
    "        foods = x[i].lower().split(\", \") \n",
    "        for f in foods:\n",
    "            try:\n",
    "                p = [p[i] + np.log(region_likelihood[i][f]*1.0) for i in range(N)]\n",
    "            except KeyError:\n",
    "                pass\n",
    "        # none of the test ingredients found in training\n",
    "        p = [np.log(priors[i]) - p[i] for i in range(len(p))]\n",
    "        if sum(p) == 0:\n",
    "            post_denom = 1\n",
    "        else:\n",
    "            post_denom = sum(p)\n",
    "        for j in range(N):\n",
    "            posteriors[i,j] = p[j]\n",
    "    return posteriors\n",
    "\n",
    "def validate_model_cnb(posteriors, labels):\n",
    "    prediction_labels = np.zeros(len(labels))\n",
    "    correct = 0\n",
    "    # the larger posterior value is more probable\n",
    "    for i in range(len(labels)):\n",
    "        prob = posteriors[i]\n",
    "        pred_region = np.argmax(prob)\n",
    "        prediction_labels[i] = pred_region\n",
    "        if pred_region == labels[i]:\n",
    "            correct += 1\n",
    "    print(\"Accuracy: \" + str(correct/len(labels)*100.0) + \"%\")\n",
    "    return prediction_labels"
   ]
  },
  {
   "cell_type": "code",
   "execution_count": 12,
   "metadata": {},
   "outputs": [
    {
     "name": "stdout",
     "output_type": "stream",
     "text": [
      "Accuracy: 67.35751295336787%\n",
      "Accuracy: 53.06122448979592%\n"
     ]
    }
   ],
   "source": [
    "x_train,x_test = train['full_description'], test['full_description']\n",
    "y_train,y_test = train['region'], test['region']\n",
    "y_test_label = [mapper(w) for w in y_test]\n",
    "training_labels = [mapper(w) for w in y_train]\n",
    "y_test_labels = [mapper(w) for w in y_test]\n",
    "\n",
    "food_dictionary = create_word_dictionary()\n",
    "# word counts for each class\n",
    "total_word_counts = np.array([v for v in food_dictionary.values()]).sum(axis=0)\n",
    "priors = get_priors(training_labels)\n",
    "region_likelihood = get_region_likelihoods_cnb(total_word_counts) # region_likelihood[region_num][food] = prob\n",
    "posteriors_train = get_posteriors_cnb(x_train)\n",
    "validate_model_cnb(posteriors_train, training_labels)\n",
    "\n",
    "posteriors_test = get_posteriors_cnb(x_test)\n",
    "y_pred = validate_model_cnb(posteriors_test, y_test_labels)\n",
    "# best with CNB"
   ]
  },
  {
   "cell_type": "code",
   "execution_count": 13,
   "metadata": {},
   "outputs": [
    {
     "data": {
      "text/plain": [
       "(7, 0)"
      ]
     },
     "execution_count": 13,
     "metadata": {},
     "output_type": "execute_result"
    },
    {
     "data": {
      "image/png": "[encoded data removed]",
      "text/plain": [
       "<Figure size 432x288 with 2 Axes>"
      ]
     },
     "metadata": {
      "needs_background": "light"
     },
     "output_type": "display_data"
    }
   ],
   "source": [
    "import seaborn as sn\n",
    "data = {'y_Actual':    y_test_labels,\n",
    "        'y_Predicted': [int(y) for y in y_pred]\n",
    "        }\n",
    "\n",
    "df = pd.DataFrame(data, columns=['y_Actual','y_Predicted'])\n",
    "confusion_matrix = pd.crosstab(df['y_Actual'], df['y_Predicted'], rownames=['Actual'], colnames=['Predicted'], margins = True)\n",
    "\n",
    "ax = sn.heatmap(confusion_matrix, annot=True)\n",
    "# print(ax.get_ylim())\n",
    "ax.title.set_text('Confusion Matrix: CNB')\n",
    "ax.set_ylim(7, 0)\n"
   ]
  },
  {
   "cell_type": "code",
   "execution_count": null,
   "metadata": {},
   "outputs": [],
   "source": []
  }
 ],
 "metadata": {
  "kernelspec": {
   "display_name": "Python 3",
   "language": "python",
   "name": "python3"
  },
  "language_info": {
   "codemirror_mode": {
    "name": "ipython",
    "version": 3
   },
   "file_extension": ".py",
   "mimetype": "text/x-python",
   "name": "python",
   "nbconvert_exporter": "python",
   "pygments_lexer": "ipython3",
   "version": "3.7.3"
  }
 },
 "nbformat": 4,
 "nbformat_minor": 4
}
